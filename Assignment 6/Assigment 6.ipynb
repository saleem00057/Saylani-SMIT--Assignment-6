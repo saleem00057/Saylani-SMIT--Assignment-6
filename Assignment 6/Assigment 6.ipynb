{
 "cells": [
  {
   "cell_type": "markdown",
   "id": "8966c85e-ed3a-4b51-a7a6-405c9c0b9273",
   "metadata": {},
   "source": [
    "### Assignment 6\n",
    "## (Classes)"
   ]
  },
  {
   "cell_type": "markdown",
   "id": "bfefce16-bce4-4fdd-881b-cf92e7179404",
   "metadata": {},
   "source": [
    "### Question 1. Write a Python program to create a class representing a Circle. Include methods to calculate its area and perimeter?"
   ]
  },
  {
   "cell_type": "code",
   "execution_count": 1,
   "id": "28725627-d26f-40ec-b4ba-349bc222f295",
   "metadata": {},
   "outputs": [],
   "source": [
    "class Circle():\n",
    "    def __init__(self, radius, pi = 3.14159):\n",
    "        self.radius = radius\n",
    "        self.pi = pi\n",
    "        \n",
    "    def area(self):\n",
    "        area = self.pi * (self.radius ** 2)\n",
    "        print(f\"Radius of circle is: {self.radius}.\\nThe area of circle is: {area}. \")\n",
    "        \n",
    "    def perimeter(self):\n",
    "        perimeter = 2 * self.pi * self.radius\n",
    "        print(f\"Radius of circle is: {self.radius}.\\nThe perimeter of circle is: {perimeter}. \")"
   ]
  },
  {
   "cell_type": "code",
   "execution_count": 6,
   "id": "5d9ae63c-556c-40f7-af93-52b463badb09",
   "metadata": {},
   "outputs": [
    {
     "name": "stdout",
     "output_type": "stream",
     "text": [
      "92\n",
      "Radius of circle is: 92.\n",
      "The area of circle is: 26590.41776. \n"
     ]
    }
   ],
   "source": [
    "circle1 = Circle(92)\n",
    "print(circle1.radius)\n",
    "\n",
    "circle1.area()"
   ]
  },
  {
   "cell_type": "code",
   "execution_count": 7,
   "id": "ef6210b0-5fff-4371-8c79-13a171ad8adf",
   "metadata": {},
   "outputs": [
    {
     "name": "stdout",
     "output_type": "stream",
     "text": [
      "92\n",
      "Radius of circle is: 92.\n",
      "The perimeter of circle is: 578.05256. \n"
     ]
    }
   ],
   "source": [
    "circle1 = Circle(92)\n",
    "print(circle1.radius)\n",
    "\n",
    "circle1.perimeter()"
   ]
  },
  {
   "cell_type": "markdown",
   "id": "4c183355-6c4b-4d93-afe8-3e16ccb9738f",
   "metadata": {},
   "source": [
    "### Question 2. Write a Python program to create a person class. Include attributes like name, country and date of birth. Implement a method to determine the person's age?"
   ]
  },
  {
   "cell_type": "code",
   "execution_count": 18,
   "id": "2853bdaa-34f2-415f-95dc-c65a3a9019a8",
   "metadata": {},
   "outputs": [
    {
     "name": "stdout",
     "output_type": "stream",
     "text": [
      "Muhammad Saleem from Pakistan is 29 years old.\n"
     ]
    }
   ],
   "source": [
    "from datetime import datetime\n",
    "\n",
    "class Person:\n",
    "    def __init__(self, name, country, date_of_birth):\n",
    "        self.name = name\n",
    "        self.country = country\n",
    "        self.date_of_birth = date_of_birth  \n",
    "    \n",
    "    def calculate_age(self):\n",
    "        birth_date = datetime.strptime(self.date_of_birth, '%Y-%m-%d')\n",
    "        today = datetime.today()\n",
    "        age = today.year - birth_date.year - ((today.month, today.day) < (birth_date.month, birth_date.day))\n",
    "        return age\n",
    "\n",
    "person = Person(\"Muhammad Saleem\", \"Pakistan\", \"1995-02-01\")\n",
    "print(f\"{person.name} from {person.country} is {person.calculate_age()} years old.\")\n"
   ]
  },
  {
   "cell_type": "markdown",
   "id": "4d6a2779-a9af-4b5a-98b6-5e5477d8f6de",
   "metadata": {},
   "source": [
    "### Question 3. Write a Python program to create a calculator class. Include methods for basic arithmetic operations?"
   ]
  },
  {
   "cell_type": "code",
   "execution_count": 14,
   "id": "7999739b-2a72-4dea-b212-e1a71b996039",
   "metadata": {},
   "outputs": [
    {
     "name": "stdout",
     "output_type": "stream",
     "text": [
      "50 + 6 = 56\n",
      "50 - 6 = 44\n",
      "50 * 6 = 300\n",
      "50 / 6 = 8.333333333333334\n"
     ]
    }
   ],
   "source": [
    "class Calculator():\n",
    "    def __init__(self, number1, number2):\n",
    "        self.number1 = number1\n",
    "        self.number2 = number2\n",
    "    def addation(self):\n",
    "        add = self.number1 + self.number2\n",
    "        print(f\"{self.number1} + {self.number2} = {add}\")\n",
    "    def subtraction(self):\n",
    "        subtract = self.number1 - self.number2\n",
    "        print(f\"{self.number1} - {self.number2} = {subtract}\")\n",
    "    def multiply(self):\n",
    "        multiply = self.number1 * self.number2\n",
    "        print(f\"{self.number1} * {self.number2} = {multiply}\")\n",
    "    def divide(self):\n",
    "        if self.number2 != 0:\n",
    "            divide = self.number1 / self.number2\n",
    "            print(f\"{self.number1} / {self.number2} = {divide}\")\n",
    "        else:\n",
    "            print('Error: Division by zero is not allowed.')\n",
    "calcu = Calculator(50,6)\n",
    "calcu.addation()\n",
    "calcu.subtraction()\n",
    "calcu.multiply()\n",
    "calcu.divide()"
   ]
  },
  {
   "cell_type": "code",
   "execution_count": null,
   "id": "925cb17f-098d-40dc-9039-303d80ab7c57",
   "metadata": {},
   "outputs": [],
   "source": []
  }
 ],
 "metadata": {
  "kernelspec": {
   "display_name": "Python 3 (ipykernel)",
   "language": "python",
   "name": "python3"
  },
  "language_info": {
   "codemirror_mode": {
    "name": "ipython",
    "version": 3
   },
   "file_extension": ".py",
   "mimetype": "text/x-python",
   "name": "python",
   "nbconvert_exporter": "python",
   "pygments_lexer": "ipython3",
   "version": "3.11.7"
  }
 },
 "nbformat": 4,
 "nbformat_minor": 5
}
